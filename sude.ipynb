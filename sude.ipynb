{
  "nbformat": 4,
  "nbformat_minor": 0,
  "metadata": {
    "colab": {
      "name": "sude.ipynb",
      "provenance": [],
      "authorship_tag": "ABX9TyMRtc1Ykjw6PHEvMACUCVRx",
      "include_colab_link": true
    },
    "kernelspec": {
      "name": "python3",
      "display_name": "Python 3"
    }
  },
  "cells": [
    {
      "cell_type": "markdown",
      "metadata": {
        "id": "view-in-github",
        "colab_type": "text"
      },
      "source": [
        "<a href=\"https://colab.research.google.com/github/ptakopysk/nprg030_2020/blob/main/sude.ipynb\" target=\"_parent\"><img src=\"https://colab.research.google.com/assets/colab-badge.svg\" alt=\"Open In Colab\"/></a>"
      ]
    },
    {
      "cell_type": "code",
      "metadata": {
        "id": "QCPHqqWFQ12x",
        "outputId": "107d7fb4-6911-4d12-f783-47afc9d42bc4",
        "colab": {
          "base_uri": "https://localhost:8080/",
          "height": 52
        }
      },
      "source": [
        "cislo = int(input())\n",
        "if cislo % 2 == 0:\n",
        "  print(\"ano\")\n",
        "else:\n",
        "  print(\"ne\")"
      ],
      "execution_count": 5,
      "outputs": [
        {
          "output_type": "stream",
          "text": [
            "5\n",
            "ne\n"
          ],
          "name": "stdout"
        }
      ]
    }
  ]
}