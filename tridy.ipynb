{
  "nbformat": 4,
  "nbformat_minor": 0,
  "metadata": {
    "colab": {
      "name": "tridy.ipynb",
      "provenance": [],
      "collapsed_sections": [],
      "authorship_tag": "ABX9TyNsM7YcqmZpRYdolWsyktY+",
      "include_colab_link": true
    },
    "kernelspec": {
      "name": "python3",
      "display_name": "Python 3"
    }
  },
  "cells": [
    {
      "cell_type": "markdown",
      "metadata": {
        "id": "view-in-github",
        "colab_type": "text"
      },
      "source": [
        "<a href=\"https://colab.research.google.com/github/ptakopysk/nprg030_2020/blob/main/tridy.ipynb\" target=\"_parent\"><img src=\"https://colab.research.google.com/assets/colab-badge.svg\" alt=\"Open In Colab\"/></a>"
      ]
    },
    {
      "cell_type": "code",
      "metadata": {
        "id": "CaviLedoga4M",
        "outputId": "90451512-3023-4e63-b316-c32d0164a967",
        "colab": {
          "base_uri": "https://localhost:8080/"
        }
      },
      "source": [
        "class Clovek:\n",
        "  def __init__(self, jmeno_cloveka):\n",
        "    self.jmeno = jmeno_cloveka\n",
        "  def pozdrav(self):\n",
        "    print(\"Ahoj, ja jsem\", self.jmeno)\n",
        "  def rekni(self, text):\n",
        "    print(self.jmeno, text, sep=':')\n",
        "  def predstav_cloveka(self, jiny_clovek):\n",
        "    print(\"Ahoj, ja jsem\", self.jmeno, \"a tohle je\", jiny_clovek.jmeno)\n",
        "\n",
        "class Rvoun(Clovek):\n",
        "  def rekni(self, text):\n",
        "    print(self.jmeno, text.upper(), sep=':')\n",
        "\n",
        "class Sprostak(Clovek):\n",
        "  def rekni(self, text):\n",
        "    print(self.jmeno, \":\", text, \"vole\")\n",
        "\n",
        "petr = Clovek('Petr')\n",
        "martin = Clovek('Martin')\n",
        "rudolf = Rvoun('Rudolf')\n",
        "matyas = Sprostak('Matyáš')\n",
        "\n",
        "petr.rekni('ptakopysk')\n",
        "rudolf.rekni('ptakopysk')\n",
        "matyas.rekni('ptakopysk')"
      ],
      "execution_count": 26,
      "outputs": [
        {
          "output_type": "stream",
          "text": [
            "Petr:ptakopysk\n",
            "Rudolf:PTAKOPYSK\n",
            "Matyáš : ptakopysk vole\n"
          ],
          "name": "stdout"
        }
      ]
    },
    {
      "cell_type": "code",
      "metadata": {
        "id": "iIAiLrTjinQo",
        "outputId": "986a2306-b76f-47a2-854f-daa15ae963c3",
        "colab": {
          "base_uri": "https://localhost:8080/"
        }
      },
      "source": [
        "petr.pozdrav()"
      ],
      "execution_count": 11,
      "outputs": [
        {
          "output_type": "stream",
          "text": [
            "Ahoj, ja jsem Petr\n"
          ],
          "name": "stdout"
        }
      ]
    },
    {
      "cell_type": "code",
      "metadata": {
        "id": "XCol0rRLkwju",
        "outputId": "0b42dd7a-f4f6-4b39-a4e7-8f9d0afbcb51",
        "colab": {
          "base_uri": "https://localhost:8080/"
        }
      },
      "source": [
        "petr.rekni(\"Dobrý den\")"
      ],
      "execution_count": 17,
      "outputs": [
        {
          "output_type": "stream",
          "text": [
            "Petr:Dobrý den\n"
          ],
          "name": "stdout"
        }
      ]
    },
    {
      "cell_type": "code",
      "metadata": {
        "id": "d8nRrXQUm878",
        "outputId": "557467d8-c536-488d-af57-05fdf67b1981",
        "colab": {
          "base_uri": "https://localhost:8080/"
        }
      },
      "source": [
        "petr.predstav_cloveka(martin)"
      ],
      "execution_count": 20,
      "outputs": [
        {
          "output_type": "stream",
          "text": [
            "Ahoj, ja jsem Petr a tohle je Martin\n"
          ],
          "name": "stdout"
        }
      ]
    },
    {
      "cell_type": "code",
      "metadata": {
        "id": "XS46M3uTipek"
      },
      "source": [
        "#Clovek.pozdrav(martin)"
      ],
      "execution_count": 13,
      "outputs": []
    },
    {
      "cell_type": "code",
      "metadata": {
        "id": "Kt8rDaVgiqDt",
        "outputId": "b35f2a82-a3b9-48fb-c1f8-d1000433d91c",
        "colab": {
          "base_uri": "https://localhost:8080/"
        }
      },
      "source": [
        "print(petr.jmeno)"
      ],
      "execution_count": 7,
      "outputs": [
        {
          "output_type": "stream",
          "text": [
            "Petr\n"
          ],
          "name": "stdout"
        }
      ]
    },
    {
      "cell_type": "code",
      "metadata": {
        "id": "3Nqlw98CivAd",
        "outputId": "2a4a6b61-d7f2-4f28-808f-61d454518a94",
        "colab": {
          "base_uri": "https://localhost:8080/"
        }
      },
      "source": [
        "print(martin.jmeno)"
      ],
      "execution_count": 8,
      "outputs": [
        {
          "output_type": "stream",
          "text": [
            "Martin\n"
          ],
          "name": "stdout"
        }
      ]
    },
    {
      "cell_type": "code",
      "metadata": {
        "id": "G7umKWUvixSG",
        "outputId": "44cb1c3b-4cf0-4839-ac2a-c08b4d3634e4",
        "colab": {
          "base_uri": "https://localhost:8080/"
        }
      },
      "source": [
        "jonas = ['Jonáš']\n",
        "print(jonas[0])"
      ],
      "execution_count": 9,
      "outputs": [
        {
          "output_type": "stream",
          "text": [
            "Jonáš\n"
          ],
          "name": "stdout"
        }
      ]
    },
    {
      "cell_type": "code",
      "metadata": {
        "id": "3x1rQYj5wp_D"
      },
      "source": [
        "#seznam = [petr, matyas, martin, rudolf, matyas, matyas, matyas]\n",
        "#zprava = \"na strope je chleba s maslem\"\n",
        "#for clovek in seznam:\n",
        "#  zprava = clovek.rekni(zprava)\n",
        "#print(zprava)"
      ],
      "execution_count": null,
      "outputs": []
    },
    {
      "cell_type": "code",
      "metadata": {
        "id": "Sq8fammhq7M4",
        "outputId": "d6a16b08-010b-4e72-b4fe-e68234c89e9f",
        "colab": {
          "base_uri": "https://localhost:8080/"
        }
      },
      "source": [
        "class Clovek:\n",
        "  def __init__(self, jmeno_cloveka, dalsi_clovek=None):\n",
        "    self.jmeno = jmeno_cloveka\n",
        "    self.dalsi = dalsi_clovek\n",
        "  def rekni(self, text):\n",
        "    return text\n",
        "  def posli_to_dal(self, text):\n",
        "    zprava = self.rekni(text)\n",
        "    if self.dalsi:\n",
        "      self.dalsi.posli_to_dal(zprava)\n",
        "    else:\n",
        "      print(zprava)\n",
        "\n",
        "class Rvoun(Clovek):\n",
        "  def rekni(self, text):\n",
        "    return text.upper()\n",
        "\n",
        "class Sprostak(Clovek):\n",
        "  def rekni(self, text):\n",
        "    return text + \" vole\"\n",
        "\n",
        "petr = Clovek('Petr')\n",
        "prvni = petr\n",
        "\n",
        "matyas = Sprostak('Matyáš')\n",
        "petr.dalsi = matyas\n",
        "\n",
        "martin = Clovek('Martin')\n",
        "matyas.dalsi = martin\n",
        "\n",
        "rudolf = Rvoun('Rudolf')\n",
        "martin.dalsi = rudolf\n",
        "\n",
        "zprava = \"na strope je chleba s maslem\"\n",
        "prvni.posli_to_dal(zprava)\n"
      ],
      "execution_count": 35,
      "outputs": [
        {
          "output_type": "stream",
          "text": [
            "NA STROPE JE CHLEBA S MASLEM VOLE\n"
          ],
          "name": "stdout"
        }
      ]
    },
    {
      "cell_type": "code",
      "metadata": {
        "id": "BszKAiCLjYOH",
        "outputId": "d133b40d-f5ee-42ec-aeca-30b56862d19b",
        "colab": {
          "base_uri": "https://localhost:8080/"
        }
      },
      "source": [
        "a = \"ptakopysk\"\n",
        "print(a[5:8])"
      ],
      "execution_count": 39,
      "outputs": [
        {
          "output_type": "stream",
          "text": [
            "pys\n"
          ],
          "name": "stdout"
        }
      ]
    },
    {
      "cell_type": "code",
      "metadata": {
        "id": "mQdKaXKvyrVu"
      },
      "source": [
        "class Cloveksvekem(Clovek):\n",
        "  def __init__(self, jmeno, vek):\n",
        "    Clovek.__init__(self, jmeno)\n",
        "    self.vek = vek\n",
        "\n",
        "jan = Cloveksvekem(\"Jan\", 27)"
      ],
      "execution_count": 41,
      "outputs": []
    },
    {
      "cell_type": "code",
      "metadata": {
        "id": "8YtkF0H00XgP",
        "outputId": "099eb033-acba-435a-bf6c-a39e9d52c8dd",
        "colab": {
          "base_uri": "https://localhost:8080/",
          "height": 35
        }
      },
      "source": [
        "jan.jmeno"
      ],
      "execution_count": 42,
      "outputs": [
        {
          "output_type": "execute_result",
          "data": {
            "application/vnd.google.colaboratory.intrinsic+json": {
              "type": "string"
            },
            "text/plain": [
              "'Jan'"
            ]
          },
          "metadata": {
            "tags": []
          },
          "execution_count": 42
        }
      ]
    },
    {
      "cell_type": "code",
      "metadata": {
        "id": "nkaM9jRg0dI2",
        "outputId": "54e708fd-7a80-48fd-b1d8-bb98efe9f9b0",
        "colab": {
          "base_uri": "https://localhost:8080/"
        }
      },
      "source": [
        "jan.vek"
      ],
      "execution_count": 43,
      "outputs": [
        {
          "output_type": "execute_result",
          "data": {
            "text/plain": [
              "27"
            ]
          },
          "metadata": {
            "tags": []
          },
          "execution_count": 43
        }
      ]
    },
    {
      "cell_type": "code",
      "metadata": {
        "id": "TE5AUR_-0eBO"
      },
      "source": [
        ""
      ],
      "execution_count": null,
      "outputs": []
    }
  ]
}