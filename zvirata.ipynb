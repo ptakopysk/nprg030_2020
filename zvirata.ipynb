{
  "nbformat": 4,
  "nbformat_minor": 0,
  "metadata": {
    "colab": {
      "name": "zvirata.ipynb",
      "provenance": [],
      "authorship_tag": "ABX9TyOkWlrUp9tbnEMVFdIkDP5S",
      "include_colab_link": true
    },
    "kernelspec": {
      "name": "python3",
      "display_name": "Python 3"
    }
  },
  "cells": [
    {
      "cell_type": "markdown",
      "metadata": {
        "id": "view-in-github",
        "colab_type": "text"
      },
      "source": [
        "<a href=\"https://colab.research.google.com/github/ptakopysk/nprg030_2020/blob/main/zvirata.ipynb\" target=\"_parent\"><img src=\"https://colab.research.google.com/assets/colab-badge.svg\" alt=\"Open In Colab\"/></a>"
      ]
    },
    {
      "cell_type": "code",
      "metadata": {
        "id": "oAi011SrTeZs"
      },
      "source": [
        "zvirata = [\"pes\", \"losos\", \"liška\", \"ptakopysk\", \"triceratops\", \"lev\", \"tygr\", \"lev\", \"liška\"]"
      ],
      "execution_count": null,
      "outputs": []
    },
    {
      "cell_type": "code",
      "metadata": {
        "id": "xK1Xy4HcT6vE",
        "outputId": "fc86630e-4bed-408f-a266-a89181441adb",
        "colab": {
          "base_uri": "https://localhost:8080/",
          "height": 35
        }
      },
      "source": [
        "print(zvirata)"
      ],
      "execution_count": null,
      "outputs": [
        {
          "output_type": "stream",
          "text": [
            "['pes', 'losos', 'liška', 'ptakopysk', 'triceratops', 'lev', 'tygr', 'lev', 'liška']\n"
          ],
          "name": "stdout"
        }
      ]
    },
    {
      "cell_type": "code",
      "metadata": {
        "id": "KnbOfXAgT96H"
      },
      "source": [
        "zvirata.append(\"lemur\")"
      ],
      "execution_count": null,
      "outputs": []
    },
    {
      "cell_type": "code",
      "metadata": {
        "id": "RtD718kTUEYS",
        "outputId": "c55f6fd4-f791-4cf2-e08c-1f480adf5394",
        "colab": {
          "base_uri": "https://localhost:8080/",
          "height": 35
        }
      },
      "source": [
        "print(zvirata)"
      ],
      "execution_count": null,
      "outputs": [
        {
          "output_type": "stream",
          "text": [
            "['pes', 'losos', 'liška', 'ptakopysk', 'triceratops', 'lev', 'tygr', 'lev', 'liška', 'lemur']\n"
          ],
          "name": "stdout"
        }
      ]
    },
    {
      "cell_type": "code",
      "metadata": {
        "id": "7FEw5qmTUFj5",
        "outputId": "adc86b7c-17f8-4f5c-b00a-116714170337",
        "colab": {
          "base_uri": "https://localhost:8080/",
          "height": 35
        }
      },
      "source": [
        "print(zvirata[0])"
      ],
      "execution_count": null,
      "outputs": [
        {
          "output_type": "stream",
          "text": [
            "pes\n"
          ],
          "name": "stdout"
        }
      ]
    },
    {
      "cell_type": "code",
      "metadata": {
        "id": "mfgnhTt3URfD",
        "outputId": "38c0ced2-9122-4d8d-f30d-b706f0f8d341",
        "colab": {
          "base_uri": "https://localhost:8080/",
          "height": 35
        }
      },
      "source": [
        "print(zvirata[2])"
      ],
      "execution_count": null,
      "outputs": [
        {
          "output_type": "stream",
          "text": [
            "liška\n"
          ],
          "name": "stdout"
        }
      ]
    },
    {
      "cell_type": "code",
      "metadata": {
        "id": "NUCyWQoKUdZf"
      },
      "source": [
        "zvirata = [\"pes\", \"losos\", \"liška\", \"ptakopysk\", \"triceratops\", \"lev\", \"tygr\", \"lev\", \"liška\"]"
      ],
      "execution_count": null,
      "outputs": []
    },
    {
      "cell_type": "code",
      "metadata": {
        "id": "fIyPF9VNUwye",
        "outputId": "4010457d-73ed-437a-f93d-5f924bd04794",
        "colab": {
          "base_uri": "https://localhost:8080/",
          "height": 35
        }
      },
      "source": [
        "print(zvirata[8])"
      ],
      "execution_count": null,
      "outputs": [
        {
          "output_type": "stream",
          "text": [
            "liška\n"
          ],
          "name": "stdout"
        }
      ]
    },
    {
      "cell_type": "code",
      "metadata": {
        "id": "llU35B9kU4mj",
        "outputId": "cb7177fb-b756-4f8f-eb27-fffab9805954",
        "colab": {
          "base_uri": "https://localhost:8080/",
          "height": 35
        }
      },
      "source": [
        "delka = len(zvirata)\n",
        "zvirata[delka-1]"
      ],
      "execution_count": null,
      "outputs": [
        {
          "output_type": "execute_result",
          "data": {
            "application/vnd.google.colaboratory.intrinsic+json": {
              "type": "string"
            },
            "text/plain": [
              "'liška'"
            ]
          },
          "metadata": {
            "tags": []
          },
          "execution_count": 13
        }
      ]
    },
    {
      "cell_type": "code",
      "metadata": {
        "id": "6Gy9zgmTVDeT",
        "outputId": "58b7d28a-a9e8-4cbd-9474-e2b407067a33",
        "colab": {
          "base_uri": "https://localhost:8080/",
          "height": 35
        }
      },
      "source": [
        "print(zvirata[-1])"
      ],
      "execution_count": null,
      "outputs": [
        {
          "output_type": "stream",
          "text": [
            "liška\n"
          ],
          "name": "stdout"
        }
      ]
    },
    {
      "cell_type": "code",
      "metadata": {
        "id": "2VY4H-9_VRe9",
        "outputId": "86047dbc-f25f-4843-d46c-5476a6d34027",
        "colab": {
          "base_uri": "https://localhost:8080/",
          "height": 35
        }
      },
      "source": [
        "print(zvirata[-2])"
      ],
      "execution_count": null,
      "outputs": [
        {
          "output_type": "stream",
          "text": [
            "lev\n"
          ],
          "name": "stdout"
        }
      ]
    },
    {
      "cell_type": "code",
      "metadata": {
        "id": "RPmn-6tbVicv"
      },
      "source": [
        "zvire = \"triceratops\""
      ],
      "execution_count": null,
      "outputs": []
    },
    {
      "cell_type": "code",
      "metadata": {
        "id": "YW4H5Oc2YiJJ",
        "outputId": "da475acc-589b-4205-9907-5a4d060fa0f3",
        "colab": {
          "base_uri": "https://localhost:8080/",
          "height": 35
        }
      },
      "source": [
        "zvire[-4:] + zvire[:3]"
      ],
      "execution_count": null,
      "outputs": [
        {
          "output_type": "execute_result",
          "data": {
            "application/vnd.google.colaboratory.intrinsic+json": {
              "type": "string"
            },
            "text/plain": [
              "'topstri'"
            ]
          },
          "metadata": {
            "tags": []
          },
          "execution_count": 47
        }
      ]
    },
    {
      "cell_type": "code",
      "metadata": {
        "id": "KPHNATgcVwjh",
        "outputId": "50001b43-b309-44d8-ec11-53355bf38b1c",
        "colab": {
          "base_uri": "https://localhost:8080/",
          "height": 35
        }
      },
      "source": [
        "print(zvire[:5], zvire[5:7], zvire[8:], zvire[-2:], zvire[8:0:-2], zvire[::-1])"
      ],
      "execution_count": null,
      "outputs": [
        {
          "output_type": "stream",
          "text": [
            "trice ra ops ps oaei spotarecirt\n"
          ],
          "name": "stdout"
        }
      ]
    },
    {
      "cell_type": "code",
      "metadata": {
        "id": "zklkw6Y6Xz-6",
        "outputId": "755b66d6-a7aa-4c28-b887-2850a2e008b3",
        "colab": {
          "base_uri": "https://localhost:8080/",
          "height": 55
        }
      },
      "source": [
        "zvirata = [\"pes\", \"losos\", \"liška\", \"ptakopysk\", \"triceratops\", \"lev\", \"tygr\", \"lev\", \"liška\"]\n",
        "print(zvirata[:5], zvirata[5:7], zvirata[8:], zvirata[-2:], zvirata[8:0:-2], zvirata[::-1])"
      ],
      "execution_count": null,
      "outputs": [
        {
          "output_type": "stream",
          "text": [
            "['pes', 'losos', 'liška', 'ptakopysk', 'triceratops'] ['lev', 'tygr'] ['liška'] ['lev', 'liška'] ['liška', 'tygr', 'triceratops', 'liška'] ['liška', 'lev', 'tygr', 'lev', 'triceratops', 'ptakopysk', 'liška', 'losos', 'pes']\n"
          ],
          "name": "stdout"
        }
      ]
    },
    {
      "cell_type": "code",
      "metadata": {
        "id": "9s0K3yQgYOBn",
        "outputId": "77e29192-56f3-4b79-fa81-a8a61de43735",
        "colab": {
          "base_uri": "https://localhost:8080/",
          "height": 35
        }
      },
      "source": [
        "zvirata.count(\"liška\")"
      ],
      "execution_count": null,
      "outputs": [
        {
          "output_type": "execute_result",
          "data": {
            "text/plain": [
              "2"
            ]
          },
          "metadata": {
            "tags": []
          },
          "execution_count": 42
        }
      ]
    },
    {
      "cell_type": "code",
      "metadata": {
        "id": "eHrtcpUiYYTw",
        "outputId": "46391672-0de0-45ad-fffa-c588303bca2f",
        "colab": {
          "base_uri": "https://localhost:8080/",
          "height": 35
        }
      },
      "source": [
        "zvire.count(\"t\")"
      ],
      "execution_count": null,
      "outputs": [
        {
          "output_type": "execute_result",
          "data": {
            "text/plain": [
              "2"
            ]
          },
          "metadata": {
            "tags": []
          },
          "execution_count": 43
        }
      ]
    },
    {
      "cell_type": "code",
      "metadata": {
        "id": "yu5GdqJJV1uF",
        "outputId": "376df148-5d72-4100-d36c-7ce4990779a2",
        "colab": {
          "base_uri": "https://localhost:8080/",
          "height": 35
        }
      },
      "source": [
        "print(zvire[-1])"
      ],
      "execution_count": null,
      "outputs": [
        {
          "output_type": "stream",
          "text": [
            "s\n"
          ],
          "name": "stdout"
        }
      ]
    },
    {
      "cell_type": "code",
      "metadata": {
        "id": "72-sXa9SV4Ri",
        "outputId": "bda33d2f-bf36-45bc-e07b-bcbb7cdd6f71",
        "colab": {
          "base_uri": "https://localhost:8080/",
          "height": 35
        }
      },
      "source": [
        "print(zvire[-2])"
      ],
      "execution_count": null,
      "outputs": [
        {
          "output_type": "stream",
          "text": [
            "p\n"
          ],
          "name": "stdout"
        }
      ]
    },
    {
      "cell_type": "code",
      "metadata": {
        "id": "CbwXPccFV6wd",
        "outputId": "9267eee5-b1a7-442d-bd63-8e6bdfe99de6",
        "colab": {
          "base_uri": "https://localhost:8080/",
          "height": 35
        }
      },
      "source": [
        "print(len(zvire))"
      ],
      "execution_count": null,
      "outputs": [
        {
          "output_type": "stream",
          "text": [
            "11\n"
          ],
          "name": "stdout"
        }
      ]
    },
    {
      "cell_type": "code",
      "metadata": {
        "id": "h_FG_KbuV-1Z"
      },
      "source": [
        "zvirata = [\"pes\", \"losos\", \"liška\", \"ptakopysk\", \"triceratops\", \"lev\", \"tygr\", \"lev\", \"liška\"]\n"
      ],
      "execution_count": null,
      "outputs": []
    },
    {
      "cell_type": "code",
      "metadata": {
        "id": "aKA3u4iLY8DS",
        "outputId": "626f685b-7a90-4350-b84f-c200a07ac243",
        "colab": {
          "base_uri": "https://localhost:8080/",
          "height": 176
        }
      },
      "source": [
        "for index, zvire in enumerate(zvirata):\n",
        "  print(index, zvire)"
      ],
      "execution_count": null,
      "outputs": [
        {
          "output_type": "stream",
          "text": [
            "0 pes\n",
            "1 losos\n",
            "2 liška\n",
            "3 ptakopysk\n",
            "4 triceratops\n",
            "5 lev\n",
            "6 tygr\n",
            "7 lev\n",
            "8 liška\n"
          ],
          "name": "stdout"
        }
      ]
    },
    {
      "cell_type": "code",
      "metadata": {
        "id": "SZHgcHlHZ9e2",
        "outputId": "772e921a-aecc-4397-a1fe-d9de385666d2",
        "colab": {
          "base_uri": "https://localhost:8080/",
          "height": 176
        }
      },
      "source": [
        "for zvire in zvirata:\n",
        "  print(zvire)"
      ],
      "execution_count": null,
      "outputs": [
        {
          "output_type": "stream",
          "text": [
            "pes\n",
            "losos\n",
            "liška\n",
            "ptakopysk\n",
            "triceratops\n",
            "lev\n",
            "tygr\n",
            "lev\n",
            "liška\n"
          ],
          "name": "stdout"
        }
      ]
    },
    {
      "cell_type": "code",
      "metadata": {
        "id": "6l6h5GQTaKkO",
        "outputId": "e1abe486-f5b6-46d7-86db-644619648e92",
        "colab": {
          "base_uri": "https://localhost:8080/",
          "height": 35
        }
      },
      "source": [
        "list(range(10))"
      ],
      "execution_count": null,
      "outputs": [
        {
          "output_type": "execute_result",
          "data": {
            "text/plain": [
              "[0, 1, 2, 3, 4, 5, 6, 7, 8, 9]"
            ]
          },
          "metadata": {
            "tags": []
          },
          "execution_count": 59
        }
      ]
    },
    {
      "cell_type": "code",
      "metadata": {
        "id": "wBBfQSc9aCiU",
        "outputId": "2a555fda-4b6c-4a8f-8c1e-3166c087e0c7",
        "colab": {
          "base_uri": "https://localhost:8080/",
          "height": 194
        }
      },
      "source": [
        "for i in range(10):\n",
        "  print(i)"
      ],
      "execution_count": null,
      "outputs": [
        {
          "output_type": "stream",
          "text": [
            "0\n",
            "1\n",
            "2\n",
            "3\n",
            "4\n",
            "5\n",
            "6\n",
            "7\n",
            "8\n",
            "9\n"
          ],
          "name": "stdout"
        }
      ]
    },
    {
      "cell_type": "code",
      "metadata": {
        "id": "NtmamB3DZdGo",
        "outputId": "95f3550c-26d9-4e6d-e219-342cd95e8c03",
        "colab": {
          "base_uri": "https://localhost:8080/",
          "height": 176
        }
      },
      "source": [
        "i = 0\n",
        "while i < len(zvirata):\n",
        "  print(zvirata[i])\n",
        "  i+=1"
      ],
      "execution_count": null,
      "outputs": [
        {
          "output_type": "stream",
          "text": [
            "pes\n",
            "losos\n",
            "liška\n",
            "ptakopysk\n",
            "triceratops\n",
            "lev\n",
            "tygr\n",
            "lev\n",
            "liška\n"
          ],
          "name": "stdout"
        }
      ]
    },
    {
      "cell_type": "code",
      "metadata": {
        "id": "E9xt0dnOZn9D",
        "outputId": "54d7ac57-3829-4d86-9157-e906a99c12c0",
        "colab": {
          "base_uri": "https://localhost:8080/",
          "height": 176
        }
      },
      "source": [
        "for i in range(len(zvirata)):\n",
        "  print(i, zvirata[i])"
      ],
      "execution_count": null,
      "outputs": [
        {
          "output_type": "stream",
          "text": [
            "0 pes\n",
            "1 losos\n",
            "2 liška\n",
            "3 ptakopysk\n",
            "4 triceratops\n",
            "5 lev\n",
            "6 tygr\n",
            "7 lev\n",
            "8 liška\n"
          ],
          "name": "stdout"
        }
      ]
    },
    {
      "cell_type": "code",
      "metadata": {
        "id": "0FIw5nnUaopl",
        "outputId": "a03cbf94-869a-4554-8e81-4bb509ab7b63",
        "colab": {
          "base_uri": "https://localhost:8080/",
          "height": 1000
        }
      },
      "source": [
        "cislo = 77\n",
        "for delitel in range(2, cislo):\n",
        "  print(cislo/delitel)"
      ],
      "execution_count": null,
      "outputs": [
        {
          "output_type": "stream",
          "text": [
            "38.5\n",
            "25.666666666666668\n",
            "19.25\n",
            "15.4\n",
            "12.833333333333334\n",
            "11.0\n",
            "9.625\n",
            "8.555555555555555\n",
            "7.7\n",
            "7.0\n",
            "6.416666666666667\n",
            "5.923076923076923\n",
            "5.5\n",
            "5.133333333333334\n",
            "4.8125\n",
            "4.529411764705882\n",
            "4.277777777777778\n",
            "4.052631578947368\n",
            "3.85\n",
            "3.6666666666666665\n",
            "3.5\n",
            "3.347826086956522\n",
            "3.2083333333333335\n",
            "3.08\n",
            "2.9615384615384617\n",
            "2.8518518518518516\n",
            "2.75\n",
            "2.6551724137931036\n",
            "2.566666666666667\n",
            "2.4838709677419355\n",
            "2.40625\n",
            "2.3333333333333335\n",
            "2.264705882352941\n",
            "2.2\n",
            "2.138888888888889\n",
            "2.081081081081081\n",
            "2.026315789473684\n",
            "1.9743589743589745\n",
            "1.925\n",
            "1.8780487804878048\n",
            "1.8333333333333333\n",
            "1.7906976744186047\n",
            "1.75\n",
            "1.711111111111111\n",
            "1.673913043478261\n",
            "1.6382978723404256\n",
            "1.6041666666666667\n",
            "1.5714285714285714\n",
            "1.54\n",
            "1.5098039215686274\n",
            "1.4807692307692308\n",
            "1.4528301886792452\n",
            "1.4259259259259258\n",
            "1.4\n",
            "1.375\n",
            "1.3508771929824561\n",
            "1.3275862068965518\n",
            "1.305084745762712\n",
            "1.2833333333333334\n",
            "1.2622950819672132\n",
            "1.2419354838709677\n",
            "1.2222222222222223\n",
            "1.203125\n",
            "1.1846153846153846\n",
            "1.1666666666666667\n",
            "1.1492537313432836\n",
            "1.1323529411764706\n",
            "1.1159420289855073\n",
            "1.1\n",
            "1.0845070422535212\n",
            "1.0694444444444444\n",
            "1.0547945205479452\n",
            "1.0405405405405406\n",
            "1.0266666666666666\n",
            "1.013157894736842\n"
          ],
          "name": "stdout"
        }
      ]
    },
    {
      "cell_type": "code",
      "metadata": {
        "id": "p3MwALrYbHgo",
        "outputId": "20d1f15f-3594-4efa-aade-7fe497c16a3e",
        "colab": {
          "base_uri": "https://localhost:8080/",
          "height": 35
        }
      },
      "source": [
        "zvirata[0][:len(zvirata[0])//2] + zvirata[1][len(zvirata[1])//2:]"
      ],
      "execution_count": null,
      "outputs": [
        {
          "output_type": "execute_result",
          "data": {
            "application/vnd.google.colaboratory.intrinsic+json": {
              "type": "string"
            },
            "text/plain": [
              "'psos'"
            ]
          },
          "metadata": {
            "tags": []
          },
          "execution_count": 64
        }
      ]
    },
    {
      "cell_type": "code",
      "metadata": {
        "id": "504yFC5ZbeCu"
      },
      "source": [
        ""
      ],
      "execution_count": null,
      "outputs": []
    }
  ]
}